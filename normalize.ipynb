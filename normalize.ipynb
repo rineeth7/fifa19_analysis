{
 "cells": [
  {
   "cell_type": "code",
   "execution_count": 54,
   "metadata": {},
   "outputs": [],
   "source": [
    "import pandas as pd\n",
    "import numpy as np\n"
   ]
  },
  {
   "cell_type": "code",
   "execution_count": 55,
   "metadata": {},
   "outputs": [],
   "source": [
    "data=pd.read_csv(\"C:/Users/Rineeth/Desktop/ids/clean_dataset.csv\")"
   ]
  },
  {
   "cell_type": "code",
   "execution_count": 56,
   "metadata": {},
   "outputs": [
    {
     "data": {
      "text/plain": [
       "array([[31., 33., 26., ..., 16., 17., 16.],\n",
       "       [94., 94., 92., ..., 47., 47., 46.],\n",
       "       [ 4.,  4.,  5., ...,  3.,  3.,  3.],\n",
       "       ...,\n",
       "       [15., 15., 11., ..., 10., 11.,  9.],\n",
       "       [14., 14., 11., ...,  6.,  8., 12.],\n",
       "       [ 8., 11., 11., ..., 13.,  9.,  9.]])"
      ]
     },
     "execution_count": 56,
     "metadata": {},
     "output_type": "execute_result"
    }
   ],
   "source": [
    "arr=np.array([data['Age'],\n",
    "              data['Overall'],\n",
    "              data['Weak Foot'],\n",
    "              data['Skill Moves'],\n",
    "              data['Jersey Number'],\n",
    "              data['Height'],\n",
    "              data['Weight'],\n",
    "              data['Crossing'],\n",
    "              data['Finishing'],\n",
    "              data['HeadingAccuracy'],\n",
    "              data['ShortPassing'],\n",
    "              data['Dribbling'],\n",
    "              data['FKAccuracy'],\n",
    "              data['LongPassing'],\n",
    "              data['BallControl'],\n",
    "              data['Acceleration'],\n",
    "              data['SprintSpeed'],\n",
    "              data['Reactions'],\n",
    "              data['Balance'],\n",
    "              data['ShotPower'],\n",
    "              data['Stamina'],\n",
    "              data['Strength'],\n",
    "              data['LongShots'],\n",
    "              data['Aggression'],\n",
    "              data['Interceptions'],\n",
    "              data['Positioning'],\n",
    "              data['Vision'],\n",
    "              data['Penalties'],\n",
    "              data['Composure'],\n",
    "              data['Marking'],\n",
    "              data['GKDiving'],\n",
    "              data['GKHandling'],\n",
    "              data['GKKicking'],\n",
    "              data['GKPositioning'],\n",
    "              data['GKReflexes']\n",
    "              ])\n",
    "arr"
   ]
  },
  {
   "cell_type": "code",
   "execution_count": 57,
   "metadata": {},
   "outputs": [
    {
     "data": {
      "text/plain": [
       "array([ 25.09993553,  66.23136247,   2.94742319,   2.34208593,\n",
       "        19.5393561 , 181.27107738,  75.2642466 ,  49.85616355,\n",
       "        45.69720896,  52.39025585,  58.83296609,  55.61812951,\n",
       "        42.72511935,  52.82972212,  58.55900355,  64.68300894,\n",
       "        64.77549272,  61.82360142,  63.9973681 ,  55.54939405,\n",
       "        63.39276533,  65.31264537,  47.25792631,  55.89380585,\n",
       "        46.88456359,  50.16660546,  53.45611458,  48.54474232,\n",
       "        58.59162688,  47.54345697,  16.40041621,  16.17633737,\n",
       "        16.06090097,  16.18937446,  16.46902926])"
      ]
     },
     "execution_count": 57,
     "metadata": {},
     "output_type": "execute_result"
    }
   ],
   "source": [
    "m=np.array([arr[0].mean(),\n",
    "          arr[1].mean(),\n",
    "          arr[2].mean(),\n",
    "          arr[3].mean(),\n",
    "          arr[4].mean(),\n",
    "          arr[5].mean(),\n",
    "          arr[6].mean(),\n",
    "          arr[7].mean(),\n",
    "          arr[8].mean(),\n",
    "          arr[9].mean(),\n",
    "          arr[10].mean(),\n",
    "          arr[11].mean(),\n",
    "          arr[12].mean(),\n",
    "          arr[13].mean(),\n",
    "          arr[14].mean(),\n",
    "          arr[15].mean(),\n",
    "          arr[16].mean(),\n",
    "          arr[17].mean(),\n",
    "          arr[18].mean(),\n",
    "          arr[19].mean(),\n",
    "          arr[20].mean(),\n",
    "          arr[21].mean(),\n",
    "          arr[22].mean(),\n",
    "          arr[23].mean(),\n",
    "          arr[24].mean(),\n",
    "          arr[25].mean(),\n",
    "          arr[26].mean(),\n",
    "          arr[27].mean(),\n",
    "          arr[28].mean(),\n",
    "          arr[29].mean(),\n",
    "          arr[30].mean(),\n",
    "          arr[31].mean(),\n",
    "          arr[32].mean(),\n",
    "          arr[33].mean(),\n",
    "          arr[34].mean()\n",
    "\n",
    "           ])\n",
    "m"
   ]
  },
  {
   "cell_type": "code",
   "execution_count": 58,
   "metadata": {},
   "outputs": [
    {
     "data": {
      "text/plain": [
       "array([ 4.56274586,  6.93096985,  0.64332864,  0.74084289, 15.81694849,\n",
       "        6.55674456,  6.91223811, 17.97431892, 19.07221121, 17.02095539,\n",
       "       14.39655985, 18.55032643, 17.07853532, 15.02533928, 16.36941115,\n",
       "       14.61911096, 14.33514204,  8.81579149, 13.82494407, 16.89374497,\n",
       "       15.57590457, 12.23219927, 18.82964636, 16.96361626, 20.22728348,\n",
       "       19.12648126, 13.83711851, 15.30680201, 11.19244663, 19.43625803,\n",
       "       17.34212574, 16.56864363, 16.21484097, 16.69923628, 17.55441818])"
      ]
     },
     "execution_count": 58,
     "metadata": {},
     "output_type": "execute_result"
    }
   ],
   "source": [
    "s=np.array([arr[0].std(),\n",
    "          arr[1].std(),\n",
    "          arr[2].std(),\n",
    "          arr[3].std(),\n",
    "          arr[4].std(),\n",
    "          arr[5].std(),\n",
    "          arr[6].std(),\n",
    "          arr[7].std(),\n",
    "          arr[8].std(),\n",
    "          arr[9].std(),\n",
    "          arr[10].std(),\n",
    "          arr[11].std(),\n",
    "          arr[12].std(),\n",
    "          arr[13].std(),\n",
    "          arr[14].std(),\n",
    "          arr[15].std(),\n",
    "          arr[16].std(),\n",
    "          arr[17].std(),\n",
    "          arr[18].std(),\n",
    "          arr[19].std(),\n",
    "          arr[20].std(),\n",
    "          arr[21].std(),\n",
    "          arr[22].std(),\n",
    "          arr[23].std(),\n",
    "          arr[24].std(),\n",
    "          arr[25].std(),\n",
    "          arr[26].std(),\n",
    "          arr[27].std(),\n",
    "          arr[28].std(),\n",
    "          arr[29].std(),\n",
    "          arr[30].std(),\n",
    "          arr[31].std(),\n",
    "          arr[32].std(),\n",
    "          arr[33].std(),\n",
    "          arr[34].std()\n",
    "\n",
    "           ])\n",
    "s"
   ]
  },
  {
   "cell_type": "code",
   "execution_count": 59,
   "metadata": {},
   "outputs": [
    {
     "data": {
      "text/plain": [
       "array([[ 1,  1,  0, ..., -1, -1, -1],\n",
       "       [ 4,  4,  3, ..., -2, -2, -2],\n",
       "       [ 1,  1,  3, ...,  0,  0,  0],\n",
       "       ...,\n",
       "       [ 0,  0,  0, ...,  0,  0,  0],\n",
       "       [ 0,  0,  0, ...,  0,  0,  0],\n",
       "       [ 0,  0,  0, ...,  0,  0,  0]])"
      ]
     },
     "execution_count": 59,
     "metadata": {},
     "output_type": "execute_result"
    }
   ],
   "source": [
    "rows, cols = (35, 16338) \n",
    "z =np.array( [[0]*cols]*rows) \n",
    "for i in range(0,35):\n",
    "    for j in range(0,16338):\n",
    "        z[i][j]=(arr[i][j]-m[i])/s[i]\n",
    "\n",
    "z    "
   ]
  },
  {
   "cell_type": "code",
   "execution_count": 60,
   "metadata": {},
   "outputs": [
    {
     "name": "stdout",
     "output_type": "stream",
     "text": [
      "0.03531644020075897\n",
      "-0.01903537764720284\n",
      "-0.04982249969396499\n",
      "-0.00379483412902436\n",
      "0.08275186681356347\n",
      "0.08538376790304811\n",
      "0.004957767168564084\n",
      "-0.0859958379238585\n",
      "-0.03427592116538132\n",
      "-0.10135879544619905\n",
      "-0.13269678051169054\n",
      "-0.16666666666666666\n",
      "0.060044069041498345\n",
      "-0.0757130615742441\n",
      "-0.13949075774268577\n",
      "-0.10570449259395275\n",
      "-0.1041743175419268\n",
      "-0.020443138695066716\n",
      "-0.06316562614763128\n",
      "-0.08770963398212756\n",
      "-0.09058636307993634\n",
      "-0.03537764720284001\n",
      "-0.07675358060962174\n",
      "-0.05190353776472029\n",
      "-0.09346309217774514\n",
      "-0.1268209083119109\n",
      "-0.03941730934018852\n",
      "-0.01621985555147509\n",
      "-0.022462969763740973\n",
      "-0.061880279103929486\n",
      "0.24495042232831435\n",
      "0.24770473742196109\n",
      "0.2483780144448525\n",
      "0.2451952503366385\n",
      "0.24721508140531276\n"
     ]
    }
   ],
   "source": [
    "for i in range(0,35):\n",
    "    print(z[i].mean())"
   ]
  },
  {
   "cell_type": "code",
   "execution_count": 61,
   "metadata": {},
   "outputs": [
    {
     "name": "stdout",
     "output_type": "stream",
     "text": [
      "0.6692913695277152\n",
      "0.6819947985315745\n",
      "0.716669491517225\n",
      "0.565664039968602\n",
      "0.7470560606452848\n",
      "0.6942169544259315\n",
      "0.6826011481001517\n",
      "0.6997619450640937\n",
      "0.6587920354895354\n",
      "0.7312410964348616\n",
      "0.7083743248463494\n",
      "0.7050335205273035\n",
      "0.635588024297636\n",
      "0.6829930844175974\n",
      "0.7048570004319511\n",
      "0.6891091087563553\n",
      "0.6843964770943827\n",
      "0.7037303325369317\n",
      "0.701711401183276\n",
      "0.6818256985288954\n",
      "0.6906831569702708\n",
      "0.6958752492977354\n",
      "0.6599498366330951\n",
      "0.6745457614791667\n",
      "0.6383834831460743\n",
      "0.6820013985147414\n",
      "0.6639657271020267\n",
      "0.6910716182368898\n",
      "0.7085662347845803\n",
      "0.6493232650408542\n",
      "0.7280348828609707\n",
      "0.7370931668502242\n",
      "0.7351617838365139\n",
      "0.7314753430214633\n",
      "0.7359280216283018\n"
     ]
    }
   ],
   "source": [
    "for i in range(0,35):\n",
    "    print(z[i].std())"
   ]
  },
  {
   "cell_type": "code",
   "execution_count": 62,
   "metadata": {},
   "outputs": [
    {
     "data": {
      "image/png": "[encoded data removed]",
      "text/plain": [
       "<Figure size 432x288 with 1 Axes>"
      ]
     },
     "metadata": {
      "needs_background": "light"
     },
     "output_type": "display_data"
    }
   ],
   "source": [
    "import matplotlib.pyplot as plt\n",
    "import scipy.stats\n",
    "import numpy as np\n",
    "x_min=-4\n",
    "x_max=4\n",
    "x = np.linspace(x_min, x_max, 100)\n",
    "\n",
    "y = scipy.stats.norm.pdf(x,z[5].mean(),z[5].std())\n",
    "\n",
    "plt.plot(x,y, color='coral')\n",
    "\n",
    "plt.grid()\n"
   ]
  },
  {
   "cell_type": "code",
   "execution_count": 63,
   "metadata": {},
   "outputs": [
    {
     "data": {
      "image/png": "[encoded data removed]",
      "text/plain": [
       "<Figure size 432x288 with 1 Axes>"
      ]
     },
     "metadata": {
      "needs_background": "light"
     },
     "output_type": "display_data"
    }
   ],
   "source": [
    "import matplotlib.pyplot as plt\n",
    "import scipy.stats\n",
    "import numpy as np\n",
    "x_min=-4\n",
    "x_max=4\n",
    "x = np.linspace(x_min, x_max, 100)\n",
    "\n",
    "y = scipy.stats.norm.pdf(x,z[6].mean(),z[6].std())\n",
    "\n",
    "plt.plot(x,y, color='coral')\n",
    "\n",
    "plt.grid()\n"
   ]
  },
  {
   "cell_type": "code",
   "execution_count": 64,
   "metadata": {},
   "outputs": [
    {
     "data": {
      "image/png": "[encoded data removed]",
      "text/plain": [
       "<Figure size 432x288 with 1 Axes>"
      ]
     },
     "metadata": {
      "needs_background": "light"
     },
     "output_type": "display_data"
    }
   ],
   "source": [
    "x_min=-4\n",
    "x_max=4\n",
    "x = np.linspace(x_min, x_max, 100)\n",
    "mean=z[1].mean()\n",
    "std=z[1].std()\n",
    "y = scipy.stats.norm.pdf(x,z[1].mean(),z[1].std())\n",
    "\n",
    "plt.plot(x,y, color='coral')\n",
    "\n",
    "\n",
    "\n",
    "pt1 = mean + std\n",
    "plt.plot([pt1 ,pt1 ],[0.0,scipy.stats.norm.pdf(pt1 ,mean, std)], color='black')\n",
    "\n",
    "pt2 = mean - std\n",
    "plt.plot([pt2 ,pt2 ],[0.0,scipy.stats.norm.pdf(pt2 ,mean, std)], color='black')\n",
    "\n",
    "ptx = np.linspace(pt1, pt2, 10)\n",
    "pty = scipy.stats.norm.pdf(ptx,mean,std)\n",
    "\n",
    "plt.fill_between(ptx, pty, color='#0b559f', alpha='1.0')\n",
    "\n",
    "pt1 = mean + std\n",
    "plt.plot([pt1 ,pt1 ],[0.0,scipy.stats.norm.pdf(pt1 ,mean, std)], color='black')\n",
    "\n",
    "pt2 = mean + 2.0 * std\n",
    "plt.plot([pt2 ,pt2 ],[0.0,scipy.stats.norm.pdf(pt2 ,mean, std)], color='black')\n",
    "\n",
    "ptx = np.linspace(pt1, pt2, 10)\n",
    "pty = scipy.stats.norm.pdf(ptx,mean,std)\n",
    "\n",
    "plt.fill_between(ptx, pty, color='#2b7bba', alpha='1.0')\n",
    "\n",
    "\n",
    "pt1 = mean - std\n",
    "plt.plot([pt1 ,pt1 ],[0.0,scipy.stats.norm.pdf(pt1 ,mean, std)], color='black')\n",
    "\n",
    "pt2 = mean - 2.0 * std\n",
    "plt.plot([pt2 ,pt2 ],[0.0,scipy.stats.norm.pdf(pt2 ,mean, std)], color='black')\n",
    "\n",
    "ptx = np.linspace(pt1, pt2, 10)\n",
    "pty = scipy.stats.norm.pdf(ptx,mean,std)\n",
    "\n",
    "plt.fill_between(ptx, pty, color='#2b7bba', alpha='1.0')\n",
    "\n",
    "pt1 = mean + 2.0 * std\n",
    "plt.plot([pt1 ,pt1 ],[0.0,scipy.stats.norm.pdf(pt1 ,mean, std)], color='black')\n",
    "\n",
    "pt2 = mean + 3.0 * std\n",
    "plt.plot([pt2 ,pt2 ],[0.0,scipy.stats.norm.pdf(pt2 ,mean, std)], color='black')\n",
    "\n",
    "ptx = np.linspace(pt1, pt2, 10)\n",
    "pty = scipy.stats.norm.pdf(ptx,mean,std)\n",
    "\n",
    "plt.fill_between(ptx, pty, color='#539ecd', alpha='1.0')\n",
    "\n",
    "pt1 = mean - 2.0 * std\n",
    "plt.plot([pt1 ,pt1 ],[0.0,scipy.stats.norm.pdf(pt1 ,mean, std)], color='black')\n",
    "\n",
    "pt2 = mean - 3.0 * std\n",
    "plt.plot([pt2 ,pt2 ],[0.0,scipy.stats.norm.pdf(pt2 ,mean, std)], color='black')\n",
    "\n",
    "ptx = np.linspace(pt1, pt2, 10)\n",
    "pty = scipy.stats.norm.pdf(ptx,mean,std)\n",
    "\n",
    "plt.fill_between(ptx, pty, color='#539ecd', alpha='1.0')\n",
    "\n",
    "pt1 = mean + 3.0 * std\n",
    "plt.plot([pt1 ,pt1 ],[0.0,scipy.stats.norm.pdf(pt1 ,mean, std)], color='black')\n",
    "\n",
    "pt2 = mean + 10.0 *std\n",
    "plt.plot([pt2 ,pt2 ],[0.0,scipy.stats.norm.pdf(pt2 ,mean, std)], color='black')\n",
    "\n",
    "ptx = np.linspace(pt1, pt2, 10)\n",
    "pty = scipy.stats.norm.pdf(ptx,mean,std)\n",
    "\n",
    "plt.fill_between(ptx, pty, color='#89bedc', alpha='1.0')\n",
    "\n",
    "pt1 = mean - 3.0 * std\n",
    "plt.plot([pt1 ,pt1 ],[0.0,scipy.stats.norm.pdf(pt1 ,mean, std)], color='black')\n",
    "\n",
    "pt2 = mean - 10.0 * std\n",
    "plt.plot([pt2 ,pt2 ],[0.0,scipy.stats.norm.pdf(pt2 ,mean, std)], color='black')\n",
    "\n",
    "ptx = np.linspace(pt1, pt2, 10)\n",
    "pty = scipy.stats.norm.pdf(ptx,mean,std)\n",
    "\n",
    "plt.fill_between(ptx, pty, color='#89bedc', alpha='1.0')\n",
    "\n",
    "\n",
    "plt.xlim(x_min,x_max)\n",
    "plt.ylim(0,0.6)\n",
    "\n",
    "plt.title('Overall Rating of Players',fontsize=20)\n",
    "\n",
    "plt.xlabel('x')\n",
    "plt.ylabel('Normal Distribution')\n",
    "\n",
    "plt.show()\n",
    "\n"
   ]
  }
 ],
 "metadata": {
  "kernelspec": {
   "display_name": "Python 3",
   "language": "python",
   "name": "python3"
  },
  "language_info": {
   "codemirror_mode": {
    "name": "ipython",
    "version": 3
   },
   "file_extension": ".py",
   "mimetype": "text/x-python",
   "name": "python",
   "nbconvert_exporter": "python",
   "pygments_lexer": "ipython3",
   "version": "3.7.3"
  }
 },
 "nbformat": 4,
 "nbformat_minor": 2
}
